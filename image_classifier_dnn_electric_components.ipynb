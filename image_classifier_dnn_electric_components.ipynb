{
  "nbformat": 4,
  "nbformat_minor": 0,
  "metadata": {
    "colab": {
      "name": "image-classifier-dnn-electric components.ipynb",
      "provenance": [],
      "collapsed_sections": [],
      "include_colab_link": true
    },
    "kernelspec": {
      "name": "python3",
      "display_name": "Python 3"
    },
    "language_info": {
      "name": "python"
    }
  },
  "cells": [
    {
      "cell_type": "markdown",
      "metadata": {
        "id": "view-in-github",
        "colab_type": "text"
      },
      "source": [
        "<a href=\"https://colab.research.google.com/github/HemanthVerma/electric_component_classification_using_DNN/blob/main/image_classifier_dnn_electric_components.ipynb\" target=\"_parent\"><img src=\"https://colab.research.google.com/assets/colab-badge.svg\" alt=\"Open In Colab\"/></a>"
      ]
    },
    {
      "cell_type": "code",
      "metadata": {
        "id": "jhHG2__GyJjs"
      },
      "source": [
        "import numpy as np\n",
        "import matplotlib.pyplot as plt\n",
        "import random\n",
        "import os\n",
        "import PIL\n",
        "\n",
        "from keras.utils import np_utils                          # tools for creating one-hot encoding\n",
        "from keras.models import Sequential                       # Type of model we wish to use\n",
        "from keras.layers.core import Dense, Dropout, Activation  # Types of layers we wish to use\n",
        "\n",
        "from skimage.transform import resize                      # Used to scale/resize image arrays\n",
        "\n",
        "from sklearn.metrics import confusion_matrix              # Used to quickly make confusion matrix"
      ],
      "execution_count": null,
      "outputs": []
    },
    {
      "cell_type": "code",
      "metadata": {
        "id": "wu2l_Lm0yhtJ"
      },
      "source": [
        "### Settings\n",
        "\n",
        "# Location of dataset\n",
        "DATASET_PATH = \"/content/sample_data/dataset\"\n",
        "\n",
        "# Desired resolution of images\n",
        "TARGET_WIDTH = 28\n",
        "TARGET_HEIGHT = 28\n",
        "\n",
        "# Invert image (dark backgrounds can sometimes improve accuracy)\n",
        "INVERT = False\n",
        "\n",
        "# Set aside 20% for validation and 20% for test\n",
        "VAL_RATIO = 0.2\n",
        "TEST_RATIO = 0.2\n",
        "\n",
        "# You are welcome to change the seed to try a different validation set split\n",
        "random.seed(42)"
      ],
      "execution_count": null,
      "outputs": []
    },
    {
      "cell_type": "code",
      "metadata": {
        "colab": {
          "base_uri": "https://localhost:8080/"
        },
        "id": "FXcJLxcv0yOT",
        "outputId": "ca0f67dd-5f1b-4203-ba39-aa2a6dd75588"
      },
      "source": [
        "### Load images as Numpy arrays\n",
        "\n",
        "# We want to record the labels and assign a ground truth label as a number to each sample\n",
        "labels = []\n",
        "y_all = []    # Lowercase 'y' - 1D vector of the ground labels (n)\n",
        "X_all = []    # Uppercase 'X' - 3D array of all image samples (n x width x height)\n",
        "\n",
        "# Find the directories in the dataset folder (skip the Jupyter Notebook checkpoints hidden folder)\n",
        "for label in os.listdir(DATASET_PATH):\n",
        "  class_dir = os.path.join(DATASET_PATH, label)\n",
        "  if os.path.isdir(class_dir) and label != \".ipynb_checkpoints\":\n",
        "\n",
        "    # Add the name of the folder to our labels list\n",
        "    labels.append(label)\n",
        "\n",
        "    # Go through each image in the folder\n",
        "    for i, file in enumerate(os.listdir(class_dir)):\n",
        "\n",
        "      # Skip the Jupyter Notebook checkpoints folder that sometimes gets added\n",
        "      if file != \".ipynb_checkpoints\":\n",
        "\n",
        "        # Open image and convert to grayscale\n",
        "        file_path = os.path.join(class_dir, file)\n",
        "        img = PIL.Image.open(file_path).convert('L')\n",
        "\n",
        "        # Convert the image to a Numpy array, optionally invern, and append to X\n",
        "        img_array = np.asarray(img)\n",
        "        if INVERT:\n",
        "          img_array = 255 - img_array\n",
        "        X_all.append(img_array)\n",
        "\n",
        "        # Add label to the y array\n",
        "        y_all.append(label)\n",
        "\n",
        "    # Show how many images we loaded\n",
        "    print(\"Added\", str(i + 1), \"images from\", label)\n",
        "\n",
        "# Calculate total number of samples\n",
        "num_samples = len(X_all)\n",
        "\n",
        "# Sort the labels list by alphabetical order\n",
        "labels = sorted(labels)\n",
        "\n",
        "# Print out labels and number of samples\n",
        "print(labels)\n",
        "print(\"Number of samples:\", num_samples)"
      ],
      "execution_count": null,
      "outputs": [
        {
          "output_type": "stream",
          "name": "stdout",
          "text": [
            "Added 50 images from diode\n",
            "Added 50 images from background\n",
            "Added 50 images from led\n",
            "Added 50 images from capacitor\n",
            "Added 50 images from resistor\n",
            "['background', 'capacitor', 'diode', 'led', 'resistor']\n",
            "Number of samples: 250\n"
          ]
        }
      ]
    },
    {
      "cell_type": "code",
      "metadata": {
        "colab": {
          "base_uri": "https://localhost:8080/"
        },
        "id": "_ux1q5Z_nFq0",
        "outputId": "1f3a1900-508f-4426-90dc-5ae346b60e42"
      },
      "source": [
        "### Convert labels to numbers\n",
        "\n",
        "# Show the labels before the conversion\n",
        "print(\"Before:\", y_all)\n",
        "\n",
        "# Convert each label to its index in the labels\n",
        "y_out = []\n",
        "for i, label in enumerate(y_all):\n",
        "  y_out.append(labels.index(label))\n",
        "y_all = y_out\n",
        "\n",
        "# Show the labels after the conversion\n",
        "print(\"After:\", y_all)"
      ],
      "execution_count": null,
      "outputs": [
        {
          "output_type": "stream",
          "name": "stdout",
          "text": [
            "Before: ['diode', 'diode', 'diode', 'diode', 'diode', 'diode', 'diode', 'diode', 'diode', 'diode', 'diode', 'diode', 'diode', 'diode', 'diode', 'diode', 'diode', 'diode', 'diode', 'diode', 'diode', 'diode', 'diode', 'diode', 'diode', 'diode', 'diode', 'diode', 'diode', 'diode', 'diode', 'diode', 'diode', 'diode', 'diode', 'diode', 'diode', 'diode', 'diode', 'diode', 'diode', 'diode', 'diode', 'diode', 'diode', 'diode', 'diode', 'diode', 'diode', 'diode', 'background', 'background', 'background', 'background', 'background', 'background', 'background', 'background', 'background', 'background', 'background', 'background', 'background', 'background', 'background', 'background', 'background', 'background', 'background', 'background', 'background', 'background', 'background', 'background', 'background', 'background', 'background', 'background', 'background', 'background', 'background', 'background', 'background', 'background', 'background', 'background', 'background', 'background', 'background', 'background', 'background', 'background', 'background', 'background', 'background', 'background', 'background', 'background', 'background', 'background', 'led', 'led', 'led', 'led', 'led', 'led', 'led', 'led', 'led', 'led', 'led', 'led', 'led', 'led', 'led', 'led', 'led', 'led', 'led', 'led', 'led', 'led', 'led', 'led', 'led', 'led', 'led', 'led', 'led', 'led', 'led', 'led', 'led', 'led', 'led', 'led', 'led', 'led', 'led', 'led', 'led', 'led', 'led', 'led', 'led', 'led', 'led', 'led', 'led', 'led', 'capacitor', 'capacitor', 'capacitor', 'capacitor', 'capacitor', 'capacitor', 'capacitor', 'capacitor', 'capacitor', 'capacitor', 'capacitor', 'capacitor', 'capacitor', 'capacitor', 'capacitor', 'capacitor', 'capacitor', 'capacitor', 'capacitor', 'capacitor', 'capacitor', 'capacitor', 'capacitor', 'capacitor', 'capacitor', 'capacitor', 'capacitor', 'capacitor', 'capacitor', 'capacitor', 'capacitor', 'capacitor', 'capacitor', 'capacitor', 'capacitor', 'capacitor', 'capacitor', 'capacitor', 'capacitor', 'capacitor', 'capacitor', 'capacitor', 'capacitor', 'capacitor', 'capacitor', 'capacitor', 'capacitor', 'capacitor', 'capacitor', 'capacitor', 'resistor', 'resistor', 'resistor', 'resistor', 'resistor', 'resistor', 'resistor', 'resistor', 'resistor', 'resistor', 'resistor', 'resistor', 'resistor', 'resistor', 'resistor', 'resistor', 'resistor', 'resistor', 'resistor', 'resistor', 'resistor', 'resistor', 'resistor', 'resistor', 'resistor', 'resistor', 'resistor', 'resistor', 'resistor', 'resistor', 'resistor', 'resistor', 'resistor', 'resistor', 'resistor', 'resistor', 'resistor', 'resistor', 'resistor', 'resistor', 'resistor', 'resistor', 'resistor', 'resistor', 'resistor', 'resistor', 'resistor', 'resistor', 'resistor', 'resistor']\n",
            "After: [2, 2, 2, 2, 2, 2, 2, 2, 2, 2, 2, 2, 2, 2, 2, 2, 2, 2, 2, 2, 2, 2, 2, 2, 2, 2, 2, 2, 2, 2, 2, 2, 2, 2, 2, 2, 2, 2, 2, 2, 2, 2, 2, 2, 2, 2, 2, 2, 2, 2, 0, 0, 0, 0, 0, 0, 0, 0, 0, 0, 0, 0, 0, 0, 0, 0, 0, 0, 0, 0, 0, 0, 0, 0, 0, 0, 0, 0, 0, 0, 0, 0, 0, 0, 0, 0, 0, 0, 0, 0, 0, 0, 0, 0, 0, 0, 0, 0, 0, 0, 3, 3, 3, 3, 3, 3, 3, 3, 3, 3, 3, 3, 3, 3, 3, 3, 3, 3, 3, 3, 3, 3, 3, 3, 3, 3, 3, 3, 3, 3, 3, 3, 3, 3, 3, 3, 3, 3, 3, 3, 3, 3, 3, 3, 3, 3, 3, 3, 3, 3, 1, 1, 1, 1, 1, 1, 1, 1, 1, 1, 1, 1, 1, 1, 1, 1, 1, 1, 1, 1, 1, 1, 1, 1, 1, 1, 1, 1, 1, 1, 1, 1, 1, 1, 1, 1, 1, 1, 1, 1, 1, 1, 1, 1, 1, 1, 1, 1, 1, 1, 4, 4, 4, 4, 4, 4, 4, 4, 4, 4, 4, 4, 4, 4, 4, 4, 4, 4, 4, 4, 4, 4, 4, 4, 4, 4, 4, 4, 4, 4, 4, 4, 4, 4, 4, 4, 4, 4, 4, 4, 4, 4, 4, 4, 4, 4, 4, 4, 4, 4]\n"
          ]
        }
      ]
    },
    {
      "cell_type": "code",
      "metadata": {
        "colab": {
          "base_uri": "https://localhost:8080/"
        },
        "id": "oJrS0Oz31NkI",
        "outputId": "39ca552a-9d1a-4399-f2f8-f5906d303463"
      },
      "source": [
        "### Shuffle samples and labels together, divide into test, validation, and training sets\n",
        "\n",
        "# Shuffle samples and associated labels together\n",
        "X_y = list(zip(X_all, y_all))\n",
        "random.shuffle(X_y)\n",
        "X_all, y_all = zip(*X_y)\n",
        "\n",
        "# Calculate number of validation and test samples to put aside (round down)\n",
        "num_samples_test = int(TEST_RATIO * num_samples)\n",
        "num_samples_val = int(VAL_RATIO * num_samples)\n",
        "\n",
        "# The first `num_samples_test` samples of the shuffled list becomes the test set\n",
        "X_test = X_all[:num_samples_test]\n",
        "y_test = y_all[:num_samples_test]\n",
        "\n",
        "# The next `num_samples_val` samples of the shuffled list becomes the validation set\n",
        "X_val = X_all[num_samples_test:(num_samples_test + num_samples_val)]\n",
        "y_val = y_all[num_samples_test:(num_samples_test + num_samples_val)]\n",
        "\n",
        "# The remaining samples become the training set\n",
        "X_train = X_all[(num_samples_test + num_samples_val):]\n",
        "y_train = y_all[(num_samples_test + num_samples_val):]\n",
        "\n",
        "# Remember the number of samples in the test set\n",
        "num_samples_train = len(X_train)\n",
        "\n",
        "# Print out the number of test, validation, and training samples\n",
        "print(\"Number of test samples:\", num_samples_test)\n",
        "print(\"Number of validation samples:\", num_samples_val)\n",
        "print(\"Number of training samples:\", num_samples_train)"
      ],
      "execution_count": null,
      "outputs": [
        {
          "output_type": "stream",
          "name": "stdout",
          "text": [
            "Number of test samples: 50\n",
            "Number of validation samples: 50\n",
            "Number of training samples: 150\n"
          ]
        }
      ]
    },
    {
      "cell_type": "code",
      "metadata": {
        "colab": {
          "base_uri": "https://localhost:8080/",
          "height": 424
        },
        "id": "6FwDtw_DazYG",
        "outputId": "464f7304-15ea-4e87-f8cf-85385e2cde65"
      },
      "source": [
        "### View one of the training samples\n",
        "\n",
        "# Chose which sample you want to view\n",
        "idx = 0\n",
        "\n",
        "# Print out label (numbe and string) and part of the array\n",
        "print(\"Label: \" + str(y_train[idx]) + \" (\" + labels[y_train[idx]] + \")\")\n",
        "print(X_train[idx])\n",
        "\n",
        "# Display image from array\n",
        "plt.imshow(X_train[idx], cmap='gray', vmin=0, vmax=255)"
      ],
      "execution_count": null,
      "outputs": [
        {
          "output_type": "stream",
          "name": "stdout",
          "text": [
            "Label: 3 (led)\n",
            "[[146 146 146 ... 149 149 149]\n",
            " [146 146 146 ... 149 149 149]\n",
            " [146 146 146 ... 149 149 149]\n",
            " ...\n",
            " [149 149 151 ... 154 154 154]\n",
            " [149 149 149 ... 154 154 154]\n",
            " [149 151 151 ... 154 154 154]]\n"
          ]
        },
        {
          "output_type": "execute_result",
          "data": {
            "text/plain": [
              "<matplotlib.image.AxesImage at 0x7f84ec2ef890>"
            ]
          },
          "metadata": {},
          "execution_count": 10
        },
        {
          "output_type": "display_data",
          "data": {
            "text/plain": [
              "<Figure size 432x288 with 1 Axes>"
            ],
            "image/png": "[encoded data removed]"
          },
          "metadata": {
            "needs_background": "light"
          }
        }
      ]
    },
    {
      "cell_type": "code",
      "metadata": {
        "id": "7eVgRZnHc6_y"
      },
      "source": [
        "### Function to resize list of images\n",
        "def resize_images(images, width, height, anti_aliasing=True):\n",
        "  \"\"\"\n",
        "  Prove a list of Numpy arrays (in images parameter) to have them all resized to desired height and\n",
        "  width. Returns the list of newly resized image arrays.\n",
        "\n",
        "  NOTE: skimage resize returns *normalized* image arrays (values between 0..1)\n",
        "  \"\"\"\n",
        "  X_out = []\n",
        "  for i, img in enumerate(images):\n",
        "    X_out.append(resize(img, (height, width), anti_aliasing=anti_aliasing))\n",
        "  return X_out"
      ],
      "execution_count": null,
      "outputs": []
    },
    {
      "cell_type": "code",
      "metadata": {
        "id": "YNpuq5Lxa9Ck"
      },
      "source": [
        "### Scale/crop images\n",
        "\n",
        "# Resize (scale) all images in the training set\n",
        "X_train = resize_images(X_train, TARGET_WIDTH, TARGET_HEIGHT)\n",
        "\n",
        "# Resize (scale) all images in the validation set\n",
        "X_val = resize_images(X_val, TARGET_WIDTH, TARGET_HEIGHT)\n",
        "\n",
        "# Resize (scale) all images in the test set\n",
        "X_test = resize_images(X_test, TARGET_WIDTH, TARGET_HEIGHT)"
      ],
      "execution_count": null,
      "outputs": []
    },
    {
      "cell_type": "code",
      "metadata": {
        "colab": {
          "base_uri": "https://localhost:8080/",
          "height": 386
        },
        "id": "tL9W4Pw1cVon",
        "outputId": "9f27bc9c-8595-494c-a98d-56bfc1980b5f"
      },
      "source": [
        "### View training sample again (after they all have been scaled)\n",
        "\n",
        "# Chose which sample you want to view\n",
        "idx = 0\n",
        "\n",
        "# Print out label (numbe and string) and part of the array\n",
        "print(\"Label: \" + str(y_train[idx]) + \" (\" + labels[y_train[idx]] + \")\")\n",
        "print(\"First row:\", X_train[idx][:1,:])\n",
        "\n",
        "# Display image from array (note that images have been normalized)\n",
        "plt.imshow(X_train[idx], cmap='gray', vmin=0, vmax=1)"
      ],
      "execution_count": null,
      "outputs": [
        {
          "output_type": "stream",
          "name": "stdout",
          "text": [
            "Label: 3 (led)\n",
            "First row: [[0.56862745 0.56610644 0.56862745 0.56862745 0.57254902 0.57647059\n",
            "  0.57647059 0.57254902 0.57254902 0.57282913 0.57647059 0.58039216\n",
            "  0.58123249 0.58123249 0.58039216 0.58039216 0.58045218 0.58123249\n",
            "  0.58123249 0.58039216 0.57797119 0.57647059 0.57647059 0.57647059\n",
            "  0.57647059 0.57647059 0.57647059 0.57647059]]\n"
          ]
        },
        {
          "output_type": "execute_result",
          "data": {
            "text/plain": [
              "<matplotlib.image.AxesImage at 0x7f84e959cc90>"
            ]
          },
          "metadata": {},
          "execution_count": 13
        },
        {
          "output_type": "display_data",
          "data": {
            "text/plain": [
              "<Figure size 432x288 with 1 Axes>"
            ],
            "image/png": "[encoded data removed]"
          },
          "metadata": {
            "needs_background": "light"
          }
        }
      ]
    },
    {
      "cell_type": "code",
      "metadata": {
        "colab": {
          "base_uri": "https://localhost:8080/"
        },
        "id": "E13XUha044fM",
        "outputId": "f652638b-1326-4ad2-bef4-21d81c7acac7"
      },
      "source": [
        "### Convert list of samples and labels into Numpy arrays\n",
        "\n",
        "# Training set\n",
        "X_train = np.asarray(X_train)\n",
        "y_train = np.asarray(y_train)\n",
        "\n",
        "# Validation set\n",
        "X_val = np.asarray(X_val)\n",
        "y_val = np.asarray(y_val)\n",
        "\n",
        "# Test set\n",
        "X_test = np.asarray(X_test)\n",
        "y_test = np.asarray(y_test)\n",
        "\n",
        "# Print out the new Numpy array shapes (always a good idea to check the shapes!)\n",
        "print(\"Training X:\", X_train.shape)\n",
        "print(\"Training y:\", y_train.shape)\n",
        "print(\"Validation X:\", X_val.shape)\n",
        "print(\"Validation y:\", y_val.shape)\n",
        "print(\"Test X:\", X_test.shape)\n",
        "print(\"Test y:\", y_test.shape)"
      ],
      "execution_count": null,
      "outputs": [
        {
          "output_type": "stream",
          "name": "stdout",
          "text": [
            "Training X: (150, 28, 28)\n",
            "Training y: (150,)\n",
            "Validation X: (50, 28, 28)\n",
            "Validation y: (50,)\n",
            "Test X: (50, 28, 28)\n",
            "Test y: (50,)\n"
          ]
        }
      ]
    },
    {
      "cell_type": "code",
      "metadata": {
        "id": "Bf-p0MnJ9csm",
        "colab": {
          "base_uri": "https://localhost:8080/"
        },
        "outputId": "941e2d03-9f01-4d5e-db6d-e1af808a1fad"
      },
      "source": [
        "### Flatten each image to a 1D vector (DNN requires 1D input)\n",
        "\n",
        "# Compute length of 1D array that we will flatten each image to\n",
        "len_vector = TARGET_WIDTH * TARGET_WIDTH\n",
        "\n",
        "# Flatten matricies to vectors\n",
        "X_train = X_train.reshape(num_samples_train, len_vector)\n",
        "X_val = X_val.reshape(num_samples_val, len_vector)\n",
        "X_test = X_test.reshape(num_samples_test, len_vector)\n",
        "\n",
        "# Determine the input shape for our Keras model (must be tuple)\n",
        "input_shape = (X_train.shape[1],)\n",
        "\n",
        "# Print out shapes\n",
        "print(\"X train:\", X_train.shape)\n",
        "print(\"y train:\", y_train.shape)\n",
        "print(\"X val:\", X_val.shape)\n",
        "print(\"y val:\", y_val.shape)\n",
        "print(\"X test:\", X_test.shape)\n",
        "print(\"y test:\", y_test.shape)\n",
        "print(\"Input tensor shape:\", input_shape)"
      ],
      "execution_count": null,
      "outputs": [
        {
          "output_type": "stream",
          "name": "stdout",
          "text": [
            "X train: (150, 784)\n",
            "y train: (150,)\n",
            "X val: (50, 784)\n",
            "y val: (50,)\n",
            "X test: (50, 784)\n",
            "y test: (50,)\n",
            "Input tensor shape: (784,)\n"
          ]
        }
      ]
    },
    {
      "cell_type": "code",
      "metadata": {
        "id": "m2D1xsis98pW",
        "colab": {
          "base_uri": "https://localhost:8080/"
        },
        "outputId": "df83c966-6b8a-4f54-bbb5-68e7b4038210"
      },
      "source": [
        "### Convert labels (integers) to one-hot encoding\n",
        "\n",
        "# Get number of classes\n",
        "num_classes = len(labels)\n",
        "\n",
        "# Use Keras's np_utils to create one-hot encoding (note the capital 'Y' - 2D array)\n",
        "Y_train = np_utils.to_categorical(y_train, num_classes)\n",
        "Y_val = np_utils.to_categorical(y_val, num_classes)\n",
        "Y_test = np_utils.to_categorical(y_test, num_classes)\n",
        "\n",
        "# Print out shapes (capital 'Y' is our one-hot matrix!)\n",
        "print(\"Y train:\", Y_train.shape)\n",
        "print(\"Y val:\", Y_val.shape)\n",
        "print(\"Y test:\", Y_test.shape)\n",
        "\n",
        "# Print out a few examples from training set\n",
        "for i in range(10):\n",
        "  print(\"Label: \" + str(y_train[i]) + \" | One-hot:\", Y_train[i])"
      ],
      "execution_count": null,
      "outputs": [
        {
          "output_type": "stream",
          "name": "stdout",
          "text": [
            "Y train: (150, 5)\n",
            "Y val: (50, 5)\n",
            "Y test: (50, 5)\n",
            "Label: 3 | One-hot: [0. 0. 0. 1. 0.]\n",
            "Label: 3 | One-hot: [0. 0. 0. 1. 0.]\n",
            "Label: 4 | One-hot: [0. 0. 0. 0. 1.]\n",
            "Label: 4 | One-hot: [0. 0. 0. 0. 1.]\n",
            "Label: 4 | One-hot: [0. 0. 0. 0. 1.]\n",
            "Label: 2 | One-hot: [0. 0. 1. 0. 0.]\n",
            "Label: 3 | One-hot: [0. 0. 0. 1. 0.]\n",
            "Label: 1 | One-hot: [0. 1. 0. 0. 0.]\n",
            "Label: 3 | One-hot: [0. 0. 0. 1. 0.]\n",
            "Label: 2 | One-hot: [0. 0. 1. 0. 0.]\n"
          ]
        }
      ]
    },
    {
      "cell_type": "code",
      "metadata": {
        "id": "uJK-b2ds94w4",
        "colab": {
          "base_uri": "https://localhost:8080/"
        },
        "outputId": "cd001d94-6dfc-4b99-f1c2-58fcd8a3b15f"
      },
      "source": [
        "### Construct Keras model\n",
        "\n",
        "# A sequential model is a linear stack of layers\n",
        "model = Sequential()\n",
        "\n",
        "# First layer: fully-connected with relu activation\n",
        "model.add(Dense(64, input_shape=input_shape))\n",
        "model.add(Activation('relu'))\n",
        "model.add(Dropout(0.25))\n",
        "\n",
        "# Second layer: fully-connected with relu activation\n",
        "model.add(Dense(64))   # Input shape is determined automatically from previous layer\n",
        "model.add(Activation('relu'))\n",
        "model.add(Dropout(0.25))\n",
        "\n",
        "# Third layer: 10 nodes, one for each class, and softmax activation\n",
        "model.add(Dense(num_classes))\n",
        "model.add(Activation('softmax'))\n",
        "\n",
        "# Configure the model's training settings\n",
        "model.compile(loss='categorical_crossentropy', optimizer='adam', metrics=['acc'])\n",
        "\n",
        "# Print out model summary\n",
        "print(model.summary())"
      ],
      "execution_count": null,
      "outputs": [
        {
          "output_type": "stream",
          "name": "stdout",
          "text": [
            "Model: \"sequential\"\n",
            "_________________________________________________________________\n",
            " Layer (type)                Output Shape              Param #   \n",
            "=================================================================\n",
            " dense (Dense)               (None, 64)                50240     \n",
            "                                                                 \n",
            " activation (Activation)     (None, 64)                0         \n",
            "                                                                 \n",
            " dropout (Dropout)           (None, 64)                0         \n",
            "                                                                 \n",
            " dense_1 (Dense)             (None, 64)                4160      \n",
            "                                                                 \n",
            " activation_1 (Activation)   (None, 64)                0         \n",
            "                                                                 \n",
            " dropout_1 (Dropout)         (None, 64)                0         \n",
            "                                                                 \n",
            " dense_2 (Dense)             (None, 5)                 325       \n",
            "                                                                 \n",
            " activation_2 (Activation)   (None, 5)                 0         \n",
            "                                                                 \n",
            "=================================================================\n",
            "Total params: 54,725\n",
            "Trainable params: 54,725\n",
            "Non-trainable params: 0\n",
            "_________________________________________________________________\n",
            "None\n"
          ]
        }
      ]
    },
    {
      "cell_type": "code",
      "metadata": {
        "colab": {
          "base_uri": "https://localhost:8080/"
        },
        "id": "4Rc0O_86pmwb",
        "outputId": "15d7ec7c-072d-40fd-9159-2534e2c9dcfa"
      },
      "source": [
        "### Train the model\n",
        "history = model.fit(X_train, \n",
        "                    Y_train, \n",
        "                    batch_size=32, \n",
        "                    epochs=200, \n",
        "                    verbose=1,\n",
        "                    validation_data=(X_val, Y_val))"
      ],
      "execution_count": null,
      "outputs": [
        {
          "output_type": "stream",
          "name": "stdout",
          "text": [
            "Epoch 1/200\n",
            "5/5 [==============================] - 1s 58ms/step - loss: 1.6994 - acc: 0.2400 - val_loss: 1.5359 - val_acc: 0.3600\n",
            "Epoch 2/200\n",
            "5/5 [==============================] - 0s 9ms/step - loss: 1.5284 - acc: 0.2600 - val_loss: 1.5062 - val_acc: 0.3800\n",
            "Epoch 3/200\n",
            "5/5 [==============================] - 0s 8ms/step - loss: 1.5384 - acc: 0.3400 - val_loss: 1.4505 - val_acc: 0.6400\n",
            "Epoch 4/200\n",
            "5/5 [==============================] - 0s 11ms/step - loss: 1.5053 - acc: 0.3200 - val_loss: 1.4047 - val_acc: 0.4600\n",
            "Epoch 5/200\n",
            "5/5 [==============================] - 0s 9ms/step - loss: 1.4156 - acc: 0.4600 - val_loss: 1.3810 - val_acc: 0.3800\n",
            "Epoch 6/200\n",
            "5/5 [==============================] - 0s 9ms/step - loss: 1.4025 - acc: 0.4067 - val_loss: 1.3229 - val_acc: 0.5000\n",
            "Epoch 7/200\n",
            "5/5 [==============================] - 0s 9ms/step - loss: 1.3801 - acc: 0.4267 - val_loss: 1.2729 - val_acc: 0.5200\n",
            "Epoch 8/200\n",
            "5/5 [==============================] - 0s 9ms/step - loss: 1.2847 - acc: 0.5067 - val_loss: 1.1894 - val_acc: 0.6400\n",
            "Epoch 9/200\n",
            "5/5 [==============================] - 0s 8ms/step - loss: 1.2431 - acc: 0.5333 - val_loss: 1.1367 - val_acc: 0.7800\n",
            "Epoch 10/200\n",
            "5/5 [==============================] - 0s 7ms/step - loss: 1.1595 - acc: 0.5933 - val_loss: 1.0646 - val_acc: 0.6800\n",
            "Epoch 11/200\n",
            "5/5 [==============================] - 0s 15ms/step - loss: 1.1387 - acc: 0.5600 - val_loss: 1.0287 - val_acc: 0.8000\n",
            "Epoch 12/200\n",
            "5/5 [==============================] - 0s 7ms/step - loss: 1.0552 - acc: 0.6000 - val_loss: 1.0113 - val_acc: 0.7400\n",
            "Epoch 13/200\n",
            "5/5 [==============================] - 0s 7ms/step - loss: 1.0493 - acc: 0.5800 - val_loss: 0.9258 - val_acc: 0.7000\n",
            "Epoch 14/200\n",
            "5/5 [==============================] - 0s 7ms/step - loss: 1.0085 - acc: 0.5933 - val_loss: 0.8769 - val_acc: 0.8200\n",
            "Epoch 15/200\n",
            "5/5 [==============================] - 0s 7ms/step - loss: 0.9232 - acc: 0.6733 - val_loss: 0.8317 - val_acc: 0.8400\n",
            "Epoch 16/200\n",
            "5/5 [==============================] - 0s 9ms/step - loss: 0.8584 - acc: 0.7000 - val_loss: 0.7687 - val_acc: 0.8800\n",
            "Epoch 17/200\n",
            "5/5 [==============================] - 0s 12ms/step - loss: 0.7872 - acc: 0.7400 - val_loss: 0.7145 - val_acc: 0.8800\n",
            "Epoch 18/200\n",
            "5/5 [==============================] - 0s 20ms/step - loss: 0.8398 - acc: 0.6400 - val_loss: 0.6997 - val_acc: 0.8800\n",
            "Epoch 19/200\n",
            "5/5 [==============================] - 0s 18ms/step - loss: 0.7770 - acc: 0.6867 - val_loss: 0.6717 - val_acc: 0.8800\n",
            "Epoch 20/200\n",
            "5/5 [==============================] - 0s 13ms/step - loss: 0.6788 - acc: 0.7733 - val_loss: 0.6292 - val_acc: 0.9200\n",
            "Epoch 21/200\n",
            "5/5 [==============================] - 0s 21ms/step - loss: 0.6759 - acc: 0.7600 - val_loss: 0.6165 - val_acc: 0.8800\n",
            "Epoch 22/200\n",
            "5/5 [==============================] - 0s 11ms/step - loss: 0.7186 - acc: 0.7267 - val_loss: 0.6068 - val_acc: 0.8800\n",
            "Epoch 23/200\n",
            "5/5 [==============================] - 0s 11ms/step - loss: 0.6626 - acc: 0.7467 - val_loss: 0.6154 - val_acc: 0.9000\n",
            "Epoch 24/200\n",
            "5/5 [==============================] - 0s 14ms/step - loss: 0.6183 - acc: 0.7867 - val_loss: 0.5561 - val_acc: 0.9200\n",
            "Epoch 25/200\n",
            "5/5 [==============================] - 0s 18ms/step - loss: 0.6477 - acc: 0.7333 - val_loss: 0.5290 - val_acc: 0.8800\n",
            "Epoch 26/200\n",
            "5/5 [==============================] - 0s 11ms/step - loss: 0.5971 - acc: 0.7600 - val_loss: 0.5171 - val_acc: 0.9400\n",
            "Epoch 27/200\n",
            "5/5 [==============================] - 0s 16ms/step - loss: 0.5748 - acc: 0.7800 - val_loss: 0.4941 - val_acc: 0.9200\n",
            "Epoch 28/200\n",
            "5/5 [==============================] - 0s 12ms/step - loss: 0.5249 - acc: 0.7933 - val_loss: 0.5011 - val_acc: 0.9200\n",
            "Epoch 29/200\n",
            "5/5 [==============================] - 0s 17ms/step - loss: 0.5108 - acc: 0.8467 - val_loss: 0.4552 - val_acc: 0.8800\n",
            "Epoch 30/200\n",
            "5/5 [==============================] - 0s 17ms/step - loss: 0.4993 - acc: 0.8333 - val_loss: 0.4525 - val_acc: 0.9200\n",
            "Epoch 31/200\n",
            "5/5 [==============================] - 0s 22ms/step - loss: 0.5467 - acc: 0.8067 - val_loss: 0.4435 - val_acc: 0.9200\n",
            "Epoch 32/200\n",
            "5/5 [==============================] - 0s 15ms/step - loss: 0.5037 - acc: 0.8533 - val_loss: 0.4203 - val_acc: 0.9000\n",
            "Epoch 33/200\n",
            "5/5 [==============================] - 0s 13ms/step - loss: 0.5159 - acc: 0.7867 - val_loss: 0.4476 - val_acc: 0.8600\n",
            "Epoch 34/200\n",
            "5/5 [==============================] - 0s 14ms/step - loss: 0.5292 - acc: 0.8000 - val_loss: 0.4063 - val_acc: 0.9200\n",
            "Epoch 35/200\n",
            "5/5 [==============================] - 0s 14ms/step - loss: 0.4787 - acc: 0.8400 - val_loss: 0.3999 - val_acc: 0.9200\n",
            "Epoch 36/200\n",
            "5/5 [==============================] - 0s 12ms/step - loss: 0.4590 - acc: 0.8400 - val_loss: 0.4085 - val_acc: 0.8800\n",
            "Epoch 37/200\n",
            "5/5 [==============================] - 0s 13ms/step - loss: 0.4509 - acc: 0.8200 - val_loss: 0.3797 - val_acc: 0.9000\n",
            "Epoch 38/200\n",
            "5/5 [==============================] - 0s 18ms/step - loss: 0.4283 - acc: 0.8200 - val_loss: 0.4126 - val_acc: 0.8600\n",
            "Epoch 39/200\n",
            "5/5 [==============================] - 0s 11ms/step - loss: 0.4759 - acc: 0.8200 - val_loss: 0.3771 - val_acc: 0.9000\n",
            "Epoch 40/200\n",
            "5/5 [==============================] - 0s 11ms/step - loss: 0.4390 - acc: 0.8333 - val_loss: 0.3641 - val_acc: 0.9000\n",
            "Epoch 41/200\n",
            "5/5 [==============================] - 0s 13ms/step - loss: 0.3624 - acc: 0.8933 - val_loss: 0.4017 - val_acc: 0.9000\n",
            "Epoch 42/200\n",
            "5/5 [==============================] - 0s 14ms/step - loss: 0.3549 - acc: 0.8800 - val_loss: 0.3185 - val_acc: 0.9400\n",
            "Epoch 43/200\n",
            "5/5 [==============================] - 0s 21ms/step - loss: 0.3130 - acc: 0.9133 - val_loss: 0.3058 - val_acc: 0.9200\n",
            "Epoch 44/200\n",
            "5/5 [==============================] - 0s 16ms/step - loss: 0.3982 - acc: 0.8800 - val_loss: 0.3294 - val_acc: 0.9000\n",
            "Epoch 45/200\n",
            "5/5 [==============================] - 0s 15ms/step - loss: 0.3956 - acc: 0.8667 - val_loss: 0.3979 - val_acc: 0.9000\n",
            "Epoch 46/200\n",
            "5/5 [==============================] - 0s 27ms/step - loss: 0.3815 - acc: 0.8800 - val_loss: 0.3317 - val_acc: 0.9400\n",
            "Epoch 47/200\n",
            "5/5 [==============================] - 0s 12ms/step - loss: 0.3214 - acc: 0.9000 - val_loss: 0.2707 - val_acc: 0.9200\n",
            "Epoch 48/200\n",
            "5/5 [==============================] - 0s 15ms/step - loss: 0.4275 - acc: 0.8200 - val_loss: 0.2871 - val_acc: 0.9200\n",
            "Epoch 49/200\n",
            "5/5 [==============================] - 0s 13ms/step - loss: 0.3608 - acc: 0.8933 - val_loss: 0.2682 - val_acc: 0.9000\n",
            "Epoch 50/200\n",
            "5/5 [==============================] - 0s 13ms/step - loss: 0.3468 - acc: 0.8533 - val_loss: 0.3150 - val_acc: 0.9000\n",
            "Epoch 51/200\n",
            "5/5 [==============================] - 0s 18ms/step - loss: 0.3697 - acc: 0.8400 - val_loss: 0.2953 - val_acc: 0.9200\n",
            "Epoch 52/200\n",
            "5/5 [==============================] - 0s 24ms/step - loss: 0.3716 - acc: 0.8867 - val_loss: 0.2835 - val_acc: 0.9200\n",
            "Epoch 53/200\n",
            "5/5 [==============================] - 0s 22ms/step - loss: 0.2919 - acc: 0.9133 - val_loss: 0.2638 - val_acc: 0.9200\n",
            "Epoch 54/200\n",
            "5/5 [==============================] - 0s 8ms/step - loss: 0.2344 - acc: 0.9400 - val_loss: 0.2587 - val_acc: 0.9000\n",
            "Epoch 55/200\n",
            "5/5 [==============================] - 0s 8ms/step - loss: 0.3147 - acc: 0.9000 - val_loss: 0.2277 - val_acc: 0.9400\n",
            "Epoch 56/200\n",
            "5/5 [==============================] - 0s 8ms/step - loss: 0.2646 - acc: 0.9000 - val_loss: 0.3200 - val_acc: 0.9200\n",
            "Epoch 57/200\n",
            "5/5 [==============================] - 0s 9ms/step - loss: 0.3249 - acc: 0.8533 - val_loss: 0.2990 - val_acc: 0.9200\n",
            "Epoch 58/200\n",
            "5/5 [==============================] - 0s 8ms/step - loss: 0.3101 - acc: 0.8533 - val_loss: 0.2965 - val_acc: 0.8600\n",
            "Epoch 59/200\n",
            "5/5 [==============================] - 0s 8ms/step - loss: 0.3383 - acc: 0.8733 - val_loss: 0.2379 - val_acc: 0.9200\n",
            "Epoch 60/200\n",
            "5/5 [==============================] - 0s 7ms/step - loss: 0.2674 - acc: 0.8867 - val_loss: 0.2331 - val_acc: 0.9600\n",
            "Epoch 61/200\n",
            "5/5 [==============================] - 0s 8ms/step - loss: 0.2711 - acc: 0.9000 - val_loss: 0.2524 - val_acc: 0.9200\n",
            "Epoch 62/200\n",
            "5/5 [==============================] - 0s 9ms/step - loss: 0.2503 - acc: 0.9000 - val_loss: 0.2305 - val_acc: 0.9400\n",
            "Epoch 63/200\n",
            "5/5 [==============================] - 0s 9ms/step - loss: 0.3383 - acc: 0.8733 - val_loss: 0.2505 - val_acc: 0.9000\n",
            "Epoch 64/200\n",
            "5/5 [==============================] - 0s 13ms/step - loss: 0.2531 - acc: 0.9333 - val_loss: 0.2846 - val_acc: 0.9000\n",
            "Epoch 65/200\n",
            "5/5 [==============================] - 0s 10ms/step - loss: 0.2359 - acc: 0.9267 - val_loss: 0.1856 - val_acc: 0.9200\n",
            "Epoch 66/200\n",
            "5/5 [==============================] - 0s 8ms/step - loss: 0.2364 - acc: 0.9267 - val_loss: 0.1965 - val_acc: 0.9600\n",
            "Epoch 67/200\n",
            "5/5 [==============================] - 0s 8ms/step - loss: 0.1964 - acc: 0.9333 - val_loss: 0.1859 - val_acc: 0.9600\n",
            "Epoch 68/200\n",
            "5/5 [==============================] - 0s 7ms/step - loss: 0.2247 - acc: 0.9133 - val_loss: 0.2412 - val_acc: 0.9000\n",
            "Epoch 69/200\n",
            "5/5 [==============================] - 0s 7ms/step - loss: 0.2646 - acc: 0.9200 - val_loss: 0.2399 - val_acc: 0.9000\n",
            "Epoch 70/200\n",
            "5/5 [==============================] - 0s 7ms/step - loss: 0.2839 - acc: 0.8733 - val_loss: 0.2197 - val_acc: 0.9200\n",
            "Epoch 71/200\n",
            "5/5 [==============================] - 0s 8ms/step - loss: 0.2704 - acc: 0.9000 - val_loss: 0.2325 - val_acc: 0.9000\n",
            "Epoch 72/200\n",
            "5/5 [==============================] - 0s 7ms/step - loss: 0.2422 - acc: 0.9400 - val_loss: 0.2029 - val_acc: 0.9000\n",
            "Epoch 73/200\n",
            "5/5 [==============================] - 0s 9ms/step - loss: 0.3025 - acc: 0.9000 - val_loss: 0.2680 - val_acc: 0.8800\n",
            "Epoch 74/200\n",
            "5/5 [==============================] - 0s 8ms/step - loss: 0.2765 - acc: 0.8933 - val_loss: 0.1986 - val_acc: 0.9400\n",
            "Epoch 75/200\n",
            "5/5 [==============================] - 0s 8ms/step - loss: 0.1785 - acc: 0.9467 - val_loss: 0.1749 - val_acc: 0.9400\n",
            "Epoch 76/200\n",
            "5/5 [==============================] - 0s 9ms/step - loss: 0.2959 - acc: 0.8933 - val_loss: 0.2426 - val_acc: 0.8800\n",
            "Epoch 77/200\n",
            "5/5 [==============================] - 0s 13ms/step - loss: 0.2280 - acc: 0.9133 - val_loss: 0.2188 - val_acc: 0.9400\n",
            "Epoch 78/200\n",
            "5/5 [==============================] - 0s 9ms/step - loss: 0.2531 - acc: 0.9133 - val_loss: 0.2384 - val_acc: 0.9200\n",
            "Epoch 79/200\n",
            "5/5 [==============================] - 0s 8ms/step - loss: 0.2941 - acc: 0.8533 - val_loss: 0.2163 - val_acc: 0.9400\n",
            "Epoch 80/200\n",
            "5/5 [==============================] - 0s 8ms/step - loss: 0.2675 - acc: 0.9000 - val_loss: 0.1884 - val_acc: 0.9200\n",
            "Epoch 81/200\n",
            "5/5 [==============================] - 0s 8ms/step - loss: 0.2431 - acc: 0.9400 - val_loss: 0.2110 - val_acc: 0.9400\n",
            "Epoch 82/200\n",
            "5/5 [==============================] - 0s 8ms/step - loss: 0.2353 - acc: 0.9067 - val_loss: 0.2301 - val_acc: 0.9400\n",
            "Epoch 83/200\n",
            "5/5 [==============================] - 0s 8ms/step - loss: 0.1562 - acc: 0.9533 - val_loss: 0.1899 - val_acc: 0.8800\n",
            "Epoch 84/200\n",
            "5/5 [==============================] - 0s 8ms/step - loss: 0.1777 - acc: 0.9533 - val_loss: 0.1484 - val_acc: 0.9200\n",
            "Epoch 85/200\n",
            "5/5 [==============================] - 0s 8ms/step - loss: 0.2456 - acc: 0.8733 - val_loss: 0.1763 - val_acc: 0.9600\n",
            "Epoch 86/200\n",
            "5/5 [==============================] - 0s 9ms/step - loss: 0.2137 - acc: 0.9333 - val_loss: 0.2521 - val_acc: 0.8800\n",
            "Epoch 87/200\n",
            "5/5 [==============================] - 0s 9ms/step - loss: 0.2444 - acc: 0.8933 - val_loss: 0.2028 - val_acc: 0.9400\n",
            "Epoch 88/200\n",
            "5/5 [==============================] - 0s 8ms/step - loss: 0.1566 - acc: 0.9533 - val_loss: 0.2808 - val_acc: 0.8800\n",
            "Epoch 89/200\n",
            "5/5 [==============================] - 0s 8ms/step - loss: 0.2353 - acc: 0.9000 - val_loss: 0.2112 - val_acc: 0.8800\n",
            "Epoch 90/200\n",
            "5/5 [==============================] - 0s 8ms/step - loss: 0.2088 - acc: 0.9200 - val_loss: 0.1724 - val_acc: 0.9400\n",
            "Epoch 91/200\n",
            "5/5 [==============================] - 0s 8ms/step - loss: 0.2662 - acc: 0.8800 - val_loss: 0.2022 - val_acc: 0.9200\n",
            "Epoch 92/200\n",
            "5/5 [==============================] - 0s 8ms/step - loss: 0.2167 - acc: 0.9333 - val_loss: 0.1888 - val_acc: 0.9400\n",
            "Epoch 93/200\n",
            "5/5 [==============================] - 0s 9ms/step - loss: 0.1879 - acc: 0.9467 - val_loss: 0.1556 - val_acc: 0.9400\n",
            "Epoch 94/200\n",
            "5/5 [==============================] - 0s 9ms/step - loss: 0.1847 - acc: 0.9267 - val_loss: 0.1521 - val_acc: 0.9000\n",
            "Epoch 95/200\n",
            "5/5 [==============================] - 0s 8ms/step - loss: 0.2373 - acc: 0.9000 - val_loss: 0.1552 - val_acc: 0.9200\n",
            "Epoch 96/200\n",
            "5/5 [==============================] - 0s 8ms/step - loss: 0.2319 - acc: 0.9267 - val_loss: 0.2298 - val_acc: 0.9200\n",
            "Epoch 97/200\n",
            "5/5 [==============================] - 0s 8ms/step - loss: 0.1936 - acc: 0.9200 - val_loss: 0.1767 - val_acc: 0.9400\n",
            "Epoch 98/200\n",
            "5/5 [==============================] - 0s 8ms/step - loss: 0.2280 - acc: 0.9267 - val_loss: 0.1674 - val_acc: 0.9400\n",
            "Epoch 99/200\n",
            "5/5 [==============================] - 0s 7ms/step - loss: 0.1836 - acc: 0.9400 - val_loss: 0.2115 - val_acc: 0.9200\n",
            "Epoch 100/200\n",
            "5/5 [==============================] - 0s 8ms/step - loss: 0.1974 - acc: 0.9267 - val_loss: 0.2406 - val_acc: 0.9200\n",
            "Epoch 101/200\n",
            "5/5 [==============================] - 0s 7ms/step - loss: 0.1772 - acc: 0.9200 - val_loss: 0.1414 - val_acc: 0.9600\n",
            "Epoch 102/200\n",
            "5/5 [==============================] - 0s 9ms/step - loss: 0.1705 - acc: 0.9333 - val_loss: 0.3209 - val_acc: 0.8800\n",
            "Epoch 103/200\n",
            "5/5 [==============================] - 0s 10ms/step - loss: 0.2953 - acc: 0.8933 - val_loss: 0.1672 - val_acc: 0.9200\n",
            "Epoch 104/200\n",
            "5/5 [==============================] - 0s 8ms/step - loss: 0.1976 - acc: 0.9267 - val_loss: 0.1584 - val_acc: 0.9400\n",
            "Epoch 105/200\n",
            "5/5 [==============================] - 0s 9ms/step - loss: 0.1666 - acc: 0.9467 - val_loss: 0.1687 - val_acc: 0.9400\n",
            "Epoch 106/200\n",
            "5/5 [==============================] - 0s 9ms/step - loss: 0.1770 - acc: 0.9333 - val_loss: 0.1738 - val_acc: 0.9000\n",
            "Epoch 107/200\n",
            "5/5 [==============================] - 0s 9ms/step - loss: 0.1331 - acc: 0.9600 - val_loss: 0.1283 - val_acc: 0.9400\n",
            "Epoch 108/200\n",
            "5/5 [==============================] - 0s 9ms/step - loss: 0.1609 - acc: 0.9467 - val_loss: 0.1229 - val_acc: 0.9400\n",
            "Epoch 109/200\n",
            "5/5 [==============================] - 0s 12ms/step - loss: 0.1545 - acc: 0.9400 - val_loss: 0.2385 - val_acc: 0.9200\n",
            "Epoch 110/200\n",
            "5/5 [==============================] - 0s 8ms/step - loss: 0.1730 - acc: 0.9467 - val_loss: 0.1673 - val_acc: 0.9600\n",
            "Epoch 111/200\n",
            "5/5 [==============================] - 0s 9ms/step - loss: 0.1606 - acc: 0.9467 - val_loss: 0.1492 - val_acc: 0.9000\n",
            "Epoch 112/200\n",
            "5/5 [==============================] - 0s 8ms/step - loss: 0.1510 - acc: 0.9533 - val_loss: 0.1245 - val_acc: 0.9400\n",
            "Epoch 113/200\n",
            "5/5 [==============================] - 0s 7ms/step - loss: 0.1677 - acc: 0.9600 - val_loss: 0.1563 - val_acc: 0.9200\n",
            "Epoch 114/200\n",
            "5/5 [==============================] - 0s 8ms/step - loss: 0.1394 - acc: 0.9533 - val_loss: 0.1221 - val_acc: 0.9400\n",
            "Epoch 115/200\n",
            "5/5 [==============================] - 0s 8ms/step - loss: 0.1022 - acc: 0.9733 - val_loss: 0.1280 - val_acc: 0.9400\n",
            "Epoch 116/200\n",
            "5/5 [==============================] - 0s 8ms/step - loss: 0.1171 - acc: 0.9733 - val_loss: 0.1295 - val_acc: 0.9400\n",
            "Epoch 117/200\n",
            "5/5 [==============================] - 0s 9ms/step - loss: 0.1949 - acc: 0.9200 - val_loss: 0.1446 - val_acc: 0.9600\n",
            "Epoch 118/200\n",
            "5/5 [==============================] - 0s 8ms/step - loss: 0.1267 - acc: 0.9533 - val_loss: 0.1854 - val_acc: 0.9600\n",
            "Epoch 119/200\n",
            "5/5 [==============================] - 0s 9ms/step - loss: 0.1395 - acc: 0.9333 - val_loss: 0.1981 - val_acc: 0.9600\n",
            "Epoch 120/200\n",
            "5/5 [==============================] - 0s 8ms/step - loss: 0.2235 - acc: 0.9267 - val_loss: 0.3025 - val_acc: 0.9000\n",
            "Epoch 121/200\n",
            "5/5 [==============================] - 0s 9ms/step - loss: 0.2435 - acc: 0.9267 - val_loss: 0.1644 - val_acc: 0.9200\n",
            "Epoch 122/200\n",
            "5/5 [==============================] - 0s 9ms/step - loss: 0.1750 - acc: 0.9400 - val_loss: 0.1768 - val_acc: 0.9600\n",
            "Epoch 123/200\n",
            "5/5 [==============================] - 0s 8ms/step - loss: 0.1451 - acc: 0.9600 - val_loss: 0.2837 - val_acc: 0.8800\n",
            "Epoch 124/200\n",
            "5/5 [==============================] - 0s 7ms/step - loss: 0.2431 - acc: 0.9000 - val_loss: 0.1482 - val_acc: 0.9400\n",
            "Epoch 125/200\n",
            "5/5 [==============================] - 0s 8ms/step - loss: 0.1411 - acc: 0.9667 - val_loss: 0.1545 - val_acc: 0.9200\n",
            "Epoch 126/200\n",
            "5/5 [==============================] - 0s 10ms/step - loss: 0.1385 - acc: 0.9667 - val_loss: 0.1153 - val_acc: 0.9600\n",
            "Epoch 127/200\n",
            "5/5 [==============================] - 0s 8ms/step - loss: 0.2287 - acc: 0.9267 - val_loss: 0.1268 - val_acc: 0.9600\n",
            "Epoch 128/200\n",
            "5/5 [==============================] - 0s 8ms/step - loss: 0.1294 - acc: 0.9600 - val_loss: 0.1691 - val_acc: 0.9600\n",
            "Epoch 129/200\n",
            "5/5 [==============================] - 0s 8ms/step - loss: 0.1423 - acc: 0.9600 - val_loss: 0.1456 - val_acc: 0.9600\n",
            "Epoch 130/200\n",
            "5/5 [==============================] - 0s 8ms/step - loss: 0.1605 - acc: 0.9533 - val_loss: 0.1497 - val_acc: 0.9400\n",
            "Epoch 131/200\n",
            "5/5 [==============================] - 0s 10ms/step - loss: 0.1185 - acc: 0.9600 - val_loss: 0.1298 - val_acc: 0.9400\n",
            "Epoch 132/200\n",
            "5/5 [==============================] - 0s 10ms/step - loss: 0.1311 - acc: 0.9267 - val_loss: 0.1087 - val_acc: 0.9400\n",
            "Epoch 133/200\n",
            "5/5 [==============================] - 0s 8ms/step - loss: 0.0785 - acc: 0.9800 - val_loss: 0.1173 - val_acc: 0.9600\n",
            "Epoch 134/200\n",
            "5/5 [==============================] - 0s 13ms/step - loss: 0.1520 - acc: 0.9200 - val_loss: 0.1114 - val_acc: 0.9400\n",
            "Epoch 135/200\n",
            "5/5 [==============================] - 0s 8ms/step - loss: 0.1429 - acc: 0.9600 - val_loss: 0.1700 - val_acc: 0.9600\n",
            "Epoch 136/200\n",
            "5/5 [==============================] - 0s 8ms/step - loss: 0.1864 - acc: 0.9067 - val_loss: 0.1215 - val_acc: 0.9600\n",
            "Epoch 137/200\n",
            "5/5 [==============================] - 0s 10ms/step - loss: 0.1314 - acc: 0.9600 - val_loss: 0.1380 - val_acc: 0.9400\n",
            "Epoch 138/200\n",
            "5/5 [==============================] - 0s 8ms/step - loss: 0.1133 - acc: 0.9667 - val_loss: 0.1942 - val_acc: 0.9200\n",
            "Epoch 139/200\n",
            "5/5 [==============================] - 0s 8ms/step - loss: 0.1131 - acc: 0.9533 - val_loss: 0.1180 - val_acc: 0.9600\n",
            "Epoch 140/200\n",
            "5/5 [==============================] - 0s 8ms/step - loss: 0.1166 - acc: 0.9467 - val_loss: 0.1314 - val_acc: 0.9400\n",
            "Epoch 141/200\n",
            "5/5 [==============================] - 0s 8ms/step - loss: 0.1052 - acc: 0.9533 - val_loss: 0.1425 - val_acc: 0.9400\n",
            "Epoch 142/200\n",
            "5/5 [==============================] - 0s 8ms/step - loss: 0.1388 - acc: 0.9600 - val_loss: 0.1171 - val_acc: 0.9200\n",
            "Epoch 143/200\n",
            "5/5 [==============================] - 0s 8ms/step - loss: 0.0986 - acc: 0.9667 - val_loss: 0.1617 - val_acc: 0.9600\n",
            "Epoch 144/200\n",
            "5/5 [==============================] - 0s 8ms/step - loss: 0.1396 - acc: 0.9533 - val_loss: 0.1235 - val_acc: 0.9600\n",
            "Epoch 145/200\n",
            "5/5 [==============================] - 0s 9ms/step - loss: 0.1010 - acc: 0.9867 - val_loss: 0.1744 - val_acc: 0.9000\n",
            "Epoch 146/200\n",
            "5/5 [==============================] - 0s 8ms/step - loss: 0.1076 - acc: 0.9667 - val_loss: 0.1007 - val_acc: 0.9400\n",
            "Epoch 147/200\n",
            "5/5 [==============================] - 0s 9ms/step - loss: 0.1451 - acc: 0.9400 - val_loss: 0.1104 - val_acc: 0.9600\n",
            "Epoch 148/200\n",
            "5/5 [==============================] - 0s 9ms/step - loss: 0.0924 - acc: 0.9733 - val_loss: 0.2783 - val_acc: 0.8800\n",
            "Epoch 149/200\n",
            "5/5 [==============================] - 0s 9ms/step - loss: 0.1134 - acc: 0.9733 - val_loss: 0.1996 - val_acc: 0.9200\n",
            "Epoch 150/200\n",
            "5/5 [==============================] - 0s 9ms/step - loss: 0.1073 - acc: 0.9667 - val_loss: 0.0961 - val_acc: 0.9400\n",
            "Epoch 151/200\n",
            "5/5 [==============================] - 0s 9ms/step - loss: 0.1207 - acc: 0.9333 - val_loss: 0.1064 - val_acc: 0.9600\n",
            "Epoch 152/200\n",
            "5/5 [==============================] - 0s 11ms/step - loss: 0.1351 - acc: 0.9533 - val_loss: 0.1245 - val_acc: 0.9600\n",
            "Epoch 153/200\n",
            "5/5 [==============================] - 0s 8ms/step - loss: 0.0985 - acc: 0.9733 - val_loss: 0.2086 - val_acc: 0.9200\n",
            "Epoch 154/200\n",
            "5/5 [==============================] - 0s 9ms/step - loss: 0.1042 - acc: 0.9733 - val_loss: 0.1345 - val_acc: 0.9400\n",
            "Epoch 155/200\n",
            "5/5 [==============================] - 0s 8ms/step - loss: 0.0995 - acc: 0.9600 - val_loss: 0.1110 - val_acc: 0.9400\n",
            "Epoch 156/200\n",
            "5/5 [==============================] - 0s 8ms/step - loss: 0.1257 - acc: 0.9600 - val_loss: 0.1161 - val_acc: 0.9400\n",
            "Epoch 157/200\n",
            "5/5 [==============================] - 0s 8ms/step - loss: 0.1376 - acc: 0.9600 - val_loss: 0.1054 - val_acc: 0.9400\n",
            "Epoch 158/200\n",
            "5/5 [==============================] - 0s 12ms/step - loss: 0.1278 - acc: 0.9533 - val_loss: 0.1001 - val_acc: 0.9400\n",
            "Epoch 159/200\n",
            "5/5 [==============================] - 0s 8ms/step - loss: 0.1071 - acc: 0.9667 - val_loss: 0.1323 - val_acc: 0.9400\n",
            "Epoch 160/200\n",
            "5/5 [==============================] - 0s 8ms/step - loss: 0.1401 - acc: 0.9533 - val_loss: 0.1333 - val_acc: 0.9400\n",
            "Epoch 161/200\n",
            "5/5 [==============================] - 0s 9ms/step - loss: 0.0853 - acc: 0.9867 - val_loss: 0.1118 - val_acc: 0.9400\n",
            "Epoch 162/200\n",
            "5/5 [==============================] - 0s 9ms/step - loss: 0.0815 - acc: 0.9800 - val_loss: 0.1137 - val_acc: 0.9600\n",
            "Epoch 163/200\n",
            "5/5 [==============================] - 0s 9ms/step - loss: 0.1689 - acc: 0.9400 - val_loss: 0.1221 - val_acc: 0.9400\n",
            "Epoch 164/200\n",
            "5/5 [==============================] - 0s 9ms/step - loss: 0.0742 - acc: 0.9933 - val_loss: 0.1054 - val_acc: 0.9600\n",
            "Epoch 165/200\n",
            "5/5 [==============================] - 0s 8ms/step - loss: 0.0801 - acc: 0.9800 - val_loss: 0.1015 - val_acc: 0.9600\n",
            "Epoch 166/200\n",
            "5/5 [==============================] - 0s 8ms/step - loss: 0.0803 - acc: 0.9667 - val_loss: 0.1052 - val_acc: 0.9400\n",
            "Epoch 167/200\n",
            "5/5 [==============================] - 0s 9ms/step - loss: 0.0929 - acc: 0.9800 - val_loss: 0.1470 - val_acc: 0.9200\n",
            "Epoch 168/200\n",
            "5/5 [==============================] - 0s 9ms/step - loss: 0.1529 - acc: 0.9333 - val_loss: 0.0956 - val_acc: 0.9400\n",
            "Epoch 169/200\n",
            "5/5 [==============================] - 0s 12ms/step - loss: 0.1328 - acc: 0.9400 - val_loss: 0.0969 - val_acc: 0.9800\n",
            "Epoch 170/200\n",
            "5/5 [==============================] - 0s 8ms/step - loss: 0.1167 - acc: 0.9600 - val_loss: 0.2109 - val_acc: 0.9400\n",
            "Epoch 171/200\n",
            "5/5 [==============================] - 0s 8ms/step - loss: 0.1050 - acc: 0.9733 - val_loss: 0.1796 - val_acc: 0.9200\n",
            "Epoch 172/200\n",
            "5/5 [==============================] - 0s 8ms/step - loss: 0.0952 - acc: 0.9733 - val_loss: 0.0965 - val_acc: 0.9600\n",
            "Epoch 173/200\n",
            "5/5 [==============================] - 0s 10ms/step - loss: 0.0866 - acc: 0.9733 - val_loss: 0.1662 - val_acc: 0.9600\n",
            "Epoch 174/200\n",
            "5/5 [==============================] - 0s 9ms/step - loss: 0.0990 - acc: 0.9667 - val_loss: 0.1080 - val_acc: 0.9600\n",
            "Epoch 175/200\n",
            "5/5 [==============================] - 0s 8ms/step - loss: 0.1383 - acc: 0.9467 - val_loss: 0.1221 - val_acc: 0.9600\n",
            "Epoch 176/200\n",
            "5/5 [==============================] - 0s 8ms/step - loss: 0.0941 - acc: 0.9733 - val_loss: 0.1425 - val_acc: 0.9600\n",
            "Epoch 177/200\n",
            "5/5 [==============================] - 0s 9ms/step - loss: 0.0971 - acc: 0.9667 - val_loss: 0.1052 - val_acc: 0.9600\n",
            "Epoch 178/200\n",
            "5/5 [==============================] - 0s 8ms/step - loss: 0.0789 - acc: 0.9800 - val_loss: 0.1335 - val_acc: 0.9600\n",
            "Epoch 179/200\n",
            "5/5 [==============================] - 0s 8ms/step - loss: 0.0739 - acc: 0.9667 - val_loss: 0.1063 - val_acc: 0.9400\n",
            "Epoch 180/200\n",
            "5/5 [==============================] - 0s 8ms/step - loss: 0.0602 - acc: 0.9867 - val_loss: 0.0902 - val_acc: 0.9400\n",
            "Epoch 181/200\n",
            "5/5 [==============================] - 0s 8ms/step - loss: 0.1175 - acc: 0.9600 - val_loss: 0.0935 - val_acc: 0.9600\n",
            "Epoch 182/200\n",
            "5/5 [==============================] - 0s 8ms/step - loss: 0.1086 - acc: 0.9667 - val_loss: 0.1152 - val_acc: 0.9600\n",
            "Epoch 183/200\n",
            "5/5 [==============================] - 0s 8ms/step - loss: 0.0755 - acc: 0.9867 - val_loss: 0.1476 - val_acc: 0.9400\n",
            "Epoch 184/200\n",
            "5/5 [==============================] - 0s 8ms/step - loss: 0.0952 - acc: 0.9667 - val_loss: 0.1796 - val_acc: 0.8800\n",
            "Epoch 185/200\n",
            "5/5 [==============================] - 0s 8ms/step - loss: 0.0857 - acc: 0.9733 - val_loss: 0.1586 - val_acc: 0.9400\n",
            "Epoch 186/200\n",
            "5/5 [==============================] - 0s 10ms/step - loss: 0.1066 - acc: 0.9400 - val_loss: 0.0795 - val_acc: 0.9800\n",
            "Epoch 187/200\n",
            "5/5 [==============================] - 0s 8ms/step - loss: 0.1287 - acc: 0.9467 - val_loss: 0.1216 - val_acc: 0.9600\n",
            "Epoch 188/200\n",
            "5/5 [==============================] - 0s 9ms/step - loss: 0.1315 - acc: 0.9667 - val_loss: 0.1794 - val_acc: 0.9000\n",
            "Epoch 189/200\n",
            "5/5 [==============================] - 0s 8ms/step - loss: 0.1566 - acc: 0.9467 - val_loss: 0.2100 - val_acc: 0.9000\n",
            "Epoch 190/200\n",
            "5/5 [==============================] - 0s 8ms/step - loss: 0.0697 - acc: 0.9933 - val_loss: 0.1928 - val_acc: 0.9200\n",
            "Epoch 191/200\n",
            "5/5 [==============================] - 0s 9ms/step - loss: 0.1515 - acc: 0.9333 - val_loss: 0.1206 - val_acc: 0.9400\n",
            "Epoch 192/200\n",
            "5/5 [==============================] - 0s 8ms/step - loss: 0.0937 - acc: 0.9733 - val_loss: 0.1126 - val_acc: 0.9600\n",
            "Epoch 193/200\n",
            "5/5 [==============================] - 0s 11ms/step - loss: 0.1060 - acc: 0.9667 - val_loss: 0.1254 - val_acc: 0.9200\n",
            "Epoch 194/200\n",
            "5/5 [==============================] - 0s 8ms/step - loss: 0.0483 - acc: 0.9933 - val_loss: 0.1141 - val_acc: 0.9200\n",
            "Epoch 195/200\n",
            "5/5 [==============================] - 0s 10ms/step - loss: 0.1296 - acc: 0.9667 - val_loss: 0.0964 - val_acc: 0.9800\n",
            "Epoch 196/200\n",
            "5/5 [==============================] - 0s 9ms/step - loss: 0.1326 - acc: 0.9533 - val_loss: 0.1295 - val_acc: 0.9400\n",
            "Epoch 197/200\n",
            "5/5 [==============================] - 0s 7ms/step - loss: 0.1077 - acc: 0.9733 - val_loss: 0.1262 - val_acc: 0.9400\n",
            "Epoch 198/200\n",
            "5/5 [==============================] - 0s 9ms/step - loss: 0.1369 - acc: 0.9533 - val_loss: 0.1207 - val_acc: 0.9200\n",
            "Epoch 199/200\n",
            "5/5 [==============================] - 0s 8ms/step - loss: 0.0964 - acc: 0.9667 - val_loss: 0.1065 - val_acc: 0.9600\n",
            "Epoch 200/200\n",
            "5/5 [==============================] - 0s 9ms/step - loss: 0.1500 - acc: 0.9467 - val_loss: 0.1334 - val_acc: 0.9400\n"
          ]
        }
      ]
    },
    {
      "cell_type": "code",
      "metadata": {
        "colab": {
          "base_uri": "https://localhost:8080/",
          "height": 545
        },
        "id": "qJnFOLndpoN9",
        "outputId": "397b5f66-8b50-4ffe-f556-ef630b0ab727"
      },
      "source": [
        "### Plot training and validation accuracy and loss over time\n",
        "\n",
        "# Extract accuracy and loss values (in list form) from the history\n",
        "acc = history.history['acc']\n",
        "val_acc = history.history['val_acc']\n",
        "loss = history.history['loss']\n",
        "val_loss = history.history['val_loss']\n",
        "\n",
        "# Create a list of epoch numbers\n",
        "epochs = range(1, len(acc) + 1)\n",
        "\n",
        "# Plot training and validation loss values over time\n",
        "plt.figure()\n",
        "plt.plot(epochs, loss, color='blue', marker='.', label='Training loss')\n",
        "plt.plot(epochs, val_loss, color='orange', marker='.', label='Validation loss')\n",
        "plt.title('Training and validation loss')\n",
        "plt.legend()\n",
        "\n",
        "# Plot training and validation accuracies over time\n",
        "plt.figure()\n",
        "plt.plot(epochs, acc, color='blue', marker='.', label='Training acc')\n",
        "plt.plot(epochs, val_acc, color='orange', marker='.', label='Validation acc')\n",
        "plt.title('Training and validation accuracy')\n",
        "plt.legend()\n",
        "plt.show()"
      ],
      "execution_count": null,
      "outputs": [
        {
          "output_type": "display_data",
          "data": {
            "text/plain": [
              "<Figure size 432x288 with 1 Axes>"
            ],
            "image/png": "[encoded data removed]"
          },
          "metadata": {
            "needs_background": "light"
          }
        },
        {
          "output_type": "display_data",
          "data": {
            "text/plain": [
              "<Figure size 432x288 with 1 Axes>"
            ],
            "image/png": "[encoded data removed]"
          },
          "metadata": {
            "needs_background": "light"
          }
        }
      ]
    },
    {
      "cell_type": "code",
      "metadata": {
        "colab": {
          "base_uri": "https://localhost:8080/"
        },
        "id": "kgmX9gfJpq-L",
        "outputId": "ef7bb552-d81d-4717-eb4e-4b0b63c7f94b"
      },
      "source": [
        "### Try predicting label with one validation sample (inference)\n",
        "\n",
        "# Change this to try a different sample from the test set\n",
        "idx = 0\n",
        "\n",
        "# Make sample 2D array instead of 1D vector (this is what the Keras model expects as input)\n",
        "x = np.expand_dims(X_val[idx], 0)\n",
        "\n",
        "# Make prediction using trained model\n",
        "y_pred = model.predict(x)\n",
        "\n",
        "# Find index of highest score in output\n",
        "predicted_label = np.argmax(y_pred)\n",
        "actual_label = np.argmax(Y_val[idx])\n",
        "\n",
        "# Display model output, predicted label, actual label\n",
        "print(\"Model output:\", y_pred)\n",
        "print(\"Predicted label:\", predicted_label, \"-\", labels[predicted_label])\n",
        "print(\"Actual label:\", actual_label, \"-\", labels[actual_label])"
      ],
      "execution_count": null,
      "outputs": [
        {
          "output_type": "stream",
          "name": "stdout",
          "text": [
            "Model output: [[3.1318427e-06 4.0339647e-04 2.1057382e-04 9.8783433e-01 1.1548628e-02]]\n",
            "Predicted label: 3 - led\n",
            "Actual label: 3 - led\n"
          ]
        }
      ]
    },
    {
      "cell_type": "code",
      "metadata": {
        "colab": {
          "base_uri": "https://localhost:8080/"
        },
        "id": "0Lo3KWpjptJk",
        "outputId": "b6b7b8bf-ad2d-424c-af63-891ba5aa5d30"
      },
      "source": [
        "### Create confusion matrix from validation set\n",
        "\n",
        "# Find predictions from all validation samples\n",
        "Y_pred = model.predict(X_val)\n",
        "print(\"Validation output shape:\", Y_pred.shape)\n",
        "\n",
        "# Convert actual and predicted validation one-hot encoding to numerical labels\n",
        "y_val = np.argmax(Y_val, axis=1)\n",
        "y_pred = np.argmax(Y_pred, axis=1)\n",
        "\n",
        "# Print some values from actual and predicted validation sets (first 50 samples)\n",
        "print(\"Actual validation labels:\\t\", y_val[:50])\n",
        "print(\"Predicted validation labels:\\t\", y_pred[:50])\n",
        "\n",
        "# Compute confusion matrix (note: we need to transpose SKLearn matrix to make it match Edge Impulse)\n",
        "cm = confusion_matrix(y_val, y_pred)\n",
        "cm = np.transpose(cm)\n",
        "\n",
        "# Print confusion matrix\n",
        "print()\n",
        "print(\" ---> Predicted labels\")\n",
        "print(\"|\")\n",
        "print(\"v Actual labels\")\n",
        "print(\"\\t\\t\\t\" + ' '.join(\"{!s:6}\".format('(' + str(i) + ')') for i in range(num_classes)))\n",
        "for row in range(num_classes):\n",
        "  print(\"{:>12} ({}):  [{}]\".format(labels[row], row, ' '.join(\"{:6}\".format(i) for i in cm[row])))"
      ],
      "execution_count": null,
      "outputs": [
        {
          "output_type": "stream",
          "name": "stdout",
          "text": [
            "Validation output shape: (50, 5)\n",
            "Actual validation labels:\t [3 3 1 3 2 0 4 0 4 2 0 3 3 3 4 2 4 2 4 2 1 1 4 3 1 4 2 4 1 0 0 2 1 2 4 4 0\n",
            " 2 2 1 1 4 2 3 1 0 2 3 4 4]\n",
            "Predicted validation labels:\t [3 3 1 3 2 0 4 0 4 2 0 3 3 3 4 2 4 2 4 2 1 1 4 3 3 4 2 4 1 0 0 2 1 4 4 4 0\n",
            " 4 2 1 1 4 2 3 1 0 2 3 4 4]\n",
            "\n",
            " ---> Predicted labels\n",
            "|\n",
            "v Actual labels\n",
            "\t\t\t(0)    (1)    (2)    (3)    (4)   \n",
            "  background (0):  [     7      0      0      0      0]\n",
            "   capacitor (1):  [     0      8      0      0      0]\n",
            "       diode (2):  [     0      0     10      0      0]\n",
            "         led (3):  [     0      1      0      9      0]\n",
            "    resistor (4):  [     0      0      2      0     13]\n"
          ]
        }
      ]
    },
    {
      "cell_type": "code",
      "metadata": {
        "colab": {
          "base_uri": "https://localhost:8080/"
        },
        "id": "hgZXa_y2qorZ",
        "outputId": "ad329c89-25f5-48e8-dd9b-3427f91c9aea"
      },
      "source": [
        "### Evaluate model on validation set\n",
        "score = model.evaluate(X_val, Y_val)\n",
        "print(\"Validation loss:\", score[0])\n",
        "print(\"Validation accuracy:\", score[1])"
      ],
      "execution_count": null,
      "outputs": [
        {
          "output_type": "stream",
          "name": "stdout",
          "text": [
            "2/2 [==============================] - 0s 5ms/step - loss: 0.1334 - acc: 0.9400\n",
            "Validation loss: 0.13338389992713928\n",
            "Validation accuracy: 0.9399999976158142\n"
          ]
        }
      ]
    },
    {
      "cell_type": "code",
      "metadata": {
        "colab": {
          "base_uri": "https://localhost:8080/"
        },
        "id": "m2lvFg0RVxFr",
        "outputId": "ece889b9-1fe2-46d3-fe3f-ae93c7bb33ea"
      },
      "source": [
        "### Evaluate model on entire test set\n",
        "score = model.evaluate(X_test, Y_test)\n",
        "print(\"Test loss:\", score[0])\n",
        "print(\"Test accuracy:\", score[1])"
      ],
      "execution_count": null,
      "outputs": [
        {
          "output_type": "stream",
          "name": "stdout",
          "text": [
            "2/2 [==============================] - 0s 5ms/step - loss: 0.4362 - acc: 0.9200\n",
            "Test loss: 0.43620526790618896\n",
            "Test accuracy: 0.9200000166893005\n"
          ]
        }
      ]
    },
    {
      "cell_type": "code",
      "source": [
        ""
      ],
      "metadata": {
        "id": "4AQAjHpLXn8g"
      },
      "execution_count": null,
      "outputs": []
    }
  ]
}